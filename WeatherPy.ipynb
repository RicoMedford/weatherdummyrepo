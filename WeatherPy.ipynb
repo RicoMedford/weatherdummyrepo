{
 "cells": [
  {
   "cell_type": "markdown",
   "metadata": {},
   "source": [
    "# WeatherPy\n",
    "----\n",
    "\n",
    "### Analysis\n",
    "* As expected, the weather becomes significantly warmer as one approaches the equator (0 Deg. Latitude). More interestingly, however, is the fact that the southern hemisphere tends to be warmer this time of year than the northern hemisphere. This may be due to the tilt of the earth.\n",
    "* There is no strong relationship between latitude and cloudiness. However, it is interesting to see that a strong band of cities sits at 0, 80, and 100% cloudiness.\n",
    "* There is no strong relationship between latitude and wind speed. However, in northern hemispheres there is a flurry of cities with over 20 mph of wind.\n",
    "\n",
    "---\n",
    "\n",
    "#### Note\n",
    "* Instructions have been included for each segment. You do not have to follow them exactly, but they are included to help you think through the steps."
   ]
  },
  {
   "cell_type": "code",
   "execution_count": 15,
   "metadata": {
    "scrolled": true
   },
   "outputs": [],
   "source": [
    "# Dependencies and Setup\n",
    "import matplotlib.pyplot as plt\n",
    "import pandas as pd\n",
    "import numpy as np\n",
    "import requests\n",
    "import time\n",
    "import json\n",
    "import openweathermapy as ow\n",
    "# Import API key\n",
    "from api_keys import api_key\n",
    "\n",
    "# Incorporated citipy to determine city based on latitude and longitude\n",
    "from citipy import citipy\n",
    "\n",
    "# Output File (CSV)\n",
    "output_data_file = \"output_data/cities.csv\"\n",
    "#with open(output_data_file) as cities_file:\n",
    "    #cities_reader = csv.reader(cities_file)\n",
    "   # cities = [city[0] for city in cities_reader]\n",
    "   # weather_data = [ow.get_current(city, **settings) for city in cities]\n",
    "\n",
    "    # Range of latitudes and longitudes\n",
    "lat_range = (-90, 90)\n",
    "lng_range = (-180, 180)"
   ]
  },
  {
   "cell_type": "code",
   "execution_count": 16,
   "metadata": {},
   "outputs": [],
   "source": [
    "#"
   ]
  },
  {
   "cell_type": "code",
   "execution_count": null,
   "metadata": {},
   "outputs": [],
   "source": []
  },
  {
   "cell_type": "code",
   "execution_count": null,
   "metadata": {},
   "outputs": [],
   "source": []
  },
  {
   "cell_type": "markdown",
   "metadata": {},
   "source": [
    "## Generate Cities List"
   ]
  },
  {
   "cell_type": "code",
   "execution_count": 17,
   "metadata": {},
   "outputs": [
    {
     "data": {
      "text/plain": [
       "42"
      ]
     },
     "execution_count": 17,
     "metadata": {},
     "output_type": "execute_result"
    }
   ],
   "source": [
    "# List for holding lat_lngs and cities\n",
    "lat_lngs = []\n",
    "cities = []\n",
    "\n",
    "# Create a set of random lat and lng combinations\n",
    "lats = np.random.uniform(low=-90.000, high=90.000, size=50)\n",
    "lngs = np.random.uniform(low=-180.000, high=180.000, size=50)\n",
    "lat_lngs = zip(lats, lngs)\n",
    "\n",
    "# Identify nearest city for each lat, lng combination\n",
    "for lat_lng in lat_lngs:\n",
    "    city = citipy.nearest_city(lat_lng[0], lat_lng[1]).city_name\n",
    "    \n",
    "    # If the city is unique, then add it to a our cities list\n",
    "    if city not in cities:\n",
    "        cities.append(city)\n",
    "\n",
    "# Print the city count to confirm sufficient count\n",
    "len(cities)"
   ]
  },
  {
   "cell_type": "code",
   "execution_count": 18,
   "metadata": {},
   "outputs": [
    {
     "data": {
      "text/html": [
       "<div>\n",
       "<style scoped>\n",
       "    .dataframe tbody tr th:only-of-type {\n",
       "        vertical-align: middle;\n",
       "    }\n",
       "\n",
       "    .dataframe tbody tr th {\n",
       "        vertical-align: top;\n",
       "    }\n",
       "\n",
       "    .dataframe thead th {\n",
       "        text-align: right;\n",
       "    }\n",
       "</style>\n",
       "<table border=\"1\" class=\"dataframe\">\n",
       "  <thead>\n",
       "    <tr style=\"text-align: right;\">\n",
       "      <th></th>\n",
       "      <th>city</th>\n",
       "      <th>Lat</th>\n",
       "      <th>Lon</th>\n",
       "      <th>Wind Speed</th>\n",
       "      <th>Humidity</th>\n",
       "      <th>Temperature</th>\n",
       "      <th>Cloud Cover</th>\n",
       "    </tr>\n",
       "  </thead>\n",
       "  <tbody>\n",
       "    <tr>\n",
       "      <th>0</th>\n",
       "      <td>taolanaro</td>\n",
       "      <td></td>\n",
       "      <td></td>\n",
       "      <td></td>\n",
       "      <td></td>\n",
       "      <td></td>\n",
       "      <td></td>\n",
       "    </tr>\n",
       "    <tr>\n",
       "      <th>1</th>\n",
       "      <td>limaong</td>\n",
       "      <td></td>\n",
       "      <td></td>\n",
       "      <td></td>\n",
       "      <td></td>\n",
       "      <td></td>\n",
       "      <td></td>\n",
       "    </tr>\n",
       "    <tr>\n",
       "      <th>2</th>\n",
       "      <td>oistins</td>\n",
       "      <td></td>\n",
       "      <td></td>\n",
       "      <td></td>\n",
       "      <td></td>\n",
       "      <td></td>\n",
       "      <td></td>\n",
       "    </tr>\n",
       "    <tr>\n",
       "      <th>3</th>\n",
       "      <td>arman</td>\n",
       "      <td></td>\n",
       "      <td></td>\n",
       "      <td></td>\n",
       "      <td></td>\n",
       "      <td></td>\n",
       "      <td></td>\n",
       "    </tr>\n",
       "    <tr>\n",
       "      <th>4</th>\n",
       "      <td>airai</td>\n",
       "      <td></td>\n",
       "      <td></td>\n",
       "      <td></td>\n",
       "      <td></td>\n",
       "      <td></td>\n",
       "      <td></td>\n",
       "    </tr>\n",
       "  </tbody>\n",
       "</table>\n",
       "</div>"
      ],
      "text/plain": [
       "        city Lat Lon Wind Speed Humidity Temperature Cloud Cover\n",
       "0  taolanaro                                                    \n",
       "1    limaong                                                    \n",
       "2    oistins                                                    \n",
       "3      arman                                                    \n",
       "4      airai                                                    "
      ]
     },
     "execution_count": 18,
     "metadata": {},
     "output_type": "execute_result"
    }
   ],
   "source": [
    "cities_df = pd.DataFrame({\"city\" : cities})\n",
    "cities_df[\"Lat\"] = \"\"\n",
    "cities_df[\"Lon\"] = \"\"\n",
    "cities_df[\"Wind Speed\"] = \"\"\n",
    "cities_df[\"Humidity\"] = \"\"\n",
    "cities_df[\"Temperature\"] = \"\"\n",
    "cities_df[\"Cloud Cover\"] = \"\"\n",
    "cities_df.head()"
   ]
  },
  {
   "cell_type": "markdown",
   "metadata": {},
   "source": [
    "### Perform API Calls\n",
    "* Perform a weather check on each city using a series of successive API calls.\n",
    "* Include a print log of each city as it'sbeing processed (with the city number and city name).\n"
   ]
  },
  {
   "cell_type": "code",
   "execution_count": 19,
   "metadata": {},
   "outputs": [
    {
     "name": "stdout",
     "output_type": "stream",
     "text": [
      "Missing details... skip.\n",
      "http://api.openweathermap.org/data/2.5/weather?q=taolanaro&units=IMPERIAL&appid=de8f8a24da42e1fb0732f88c4e3e70a3\n"
     ]
    },
    {
     "name": "stderr",
     "output_type": "stream",
     "text": [
      "/anaconda3/envs/myenv/lib/python3.6/site-packages/ipykernel_launcher.py:10: FutureWarning: set_value is deprecated and will be removed in a future release. Please use .at[] or .iat[] accessors instead\n",
      "  # Remove the CWD from sys.path while we load stuff.\n",
      "/anaconda3/envs/myenv/lib/python3.6/site-packages/ipykernel_launcher.py:11: FutureWarning: set_value is deprecated and will be removed in a future release. Please use .at[] or .iat[] accessors instead\n",
      "  # This is added back by InteractiveShellApp.init_path()\n",
      "/anaconda3/envs/myenv/lib/python3.6/site-packages/ipykernel_launcher.py:12: FutureWarning: set_value is deprecated and will be removed in a future release. Please use .at[] or .iat[] accessors instead\n",
      "  if sys.path[0] == '':\n",
      "/anaconda3/envs/myenv/lib/python3.6/site-packages/ipykernel_launcher.py:13: FutureWarning: set_value is deprecated and will be removed in a future release. Please use .at[] or .iat[] accessors instead\n",
      "  del sys.path[0]\n",
      "/anaconda3/envs/myenv/lib/python3.6/site-packages/ipykernel_launcher.py:14: FutureWarning: set_value is deprecated and will be removed in a future release. Please use .at[] or .iat[] accessors instead\n",
      "  \n",
      "/anaconda3/envs/myenv/lib/python3.6/site-packages/ipykernel_launcher.py:15: FutureWarning: set_value is deprecated and will be removed in a future release. Please use .at[] or .iat[] accessors instead\n",
      "  from ipykernel import kernelapp as app\n"
     ]
    },
    {
     "name": "stdout",
     "output_type": "stream",
     "text": [
      "http://api.openweathermap.org/data/2.5/weather?q=limaong&units=IMPERIAL&appid=de8f8a24da42e1fb0732f88c4e3e70a3\n",
      "http://api.openweathermap.org/data/2.5/weather?q=oistins&units=IMPERIAL&appid=de8f8a24da42e1fb0732f88c4e3e70a3\n",
      "http://api.openweathermap.org/data/2.5/weather?q=arman&units=IMPERIAL&appid=de8f8a24da42e1fb0732f88c4e3e70a3\n",
      "http://api.openweathermap.org/data/2.5/weather?q=airai&units=IMPERIAL&appid=de8f8a24da42e1fb0732f88c4e3e70a3\n",
      "http://api.openweathermap.org/data/2.5/weather?q=qaanaaq&units=IMPERIAL&appid=de8f8a24da42e1fb0732f88c4e3e70a3\n",
      "Missing details... skip.\n",
      "http://api.openweathermap.org/data/2.5/weather?q=jabiru&units=IMPERIAL&appid=de8f8a24da42e1fb0732f88c4e3e70a3\n",
      "Missing details... skip.\n",
      "http://api.openweathermap.org/data/2.5/weather?q=yomitan&units=IMPERIAL&appid=de8f8a24da42e1fb0732f88c4e3e70a3\n",
      "http://api.openweathermap.org/data/2.5/weather?q=hithadhoo&units=IMPERIAL&appid=de8f8a24da42e1fb0732f88c4e3e70a3\n",
      "http://api.openweathermap.org/data/2.5/weather?q=smithers&units=IMPERIAL&appid=de8f8a24da42e1fb0732f88c4e3e70a3\n",
      "http://api.openweathermap.org/data/2.5/weather?q=lubbock&units=IMPERIAL&appid=de8f8a24da42e1fb0732f88c4e3e70a3\n",
      "http://api.openweathermap.org/data/2.5/weather?q=butaritari&units=IMPERIAL&appid=de8f8a24da42e1fb0732f88c4e3e70a3\n",
      "Missing details... skip.\n",
      "http://api.openweathermap.org/data/2.5/weather?q=amderma&units=IMPERIAL&appid=de8f8a24da42e1fb0732f88c4e3e70a3\n",
      "http://api.openweathermap.org/data/2.5/weather?q=kanlagay&units=IMPERIAL&appid=de8f8a24da42e1fb0732f88c4e3e70a3\n",
      "http://api.openweathermap.org/data/2.5/weather?q=bluff&units=IMPERIAL&appid=de8f8a24da42e1fb0732f88c4e3e70a3\n",
      "Missing details... skip.\n",
      "http://api.openweathermap.org/data/2.5/weather?q=vaitupu&units=IMPERIAL&appid=de8f8a24da42e1fb0732f88c4e3e70a3\n",
      "http://api.openweathermap.org/data/2.5/weather?q=mataura&units=IMPERIAL&appid=de8f8a24da42e1fb0732f88c4e3e70a3\n",
      "http://api.openweathermap.org/data/2.5/weather?q=marienburg&units=IMPERIAL&appid=de8f8a24da42e1fb0732f88c4e3e70a3\n",
      "http://api.openweathermap.org/data/2.5/weather?q=port alfred&units=IMPERIAL&appid=de8f8a24da42e1fb0732f88c4e3e70a3\n",
      "http://api.openweathermap.org/data/2.5/weather?q=vila&units=IMPERIAL&appid=de8f8a24da42e1fb0732f88c4e3e70a3\n",
      "http://api.openweathermap.org/data/2.5/weather?q=lashio&units=IMPERIAL&appid=de8f8a24da42e1fb0732f88c4e3e70a3\n",
      "http://api.openweathermap.org/data/2.5/weather?q=zarubino&units=IMPERIAL&appid=de8f8a24da42e1fb0732f88c4e3e70a3\n",
      "http://api.openweathermap.org/data/2.5/weather?q=jonesboro&units=IMPERIAL&appid=de8f8a24da42e1fb0732f88c4e3e70a3\n",
      "http://api.openweathermap.org/data/2.5/weather?q=arraial do cabo&units=IMPERIAL&appid=de8f8a24da42e1fb0732f88c4e3e70a3\n",
      "http://api.openweathermap.org/data/2.5/weather?q=busselton&units=IMPERIAL&appid=de8f8a24da42e1fb0732f88c4e3e70a3\n",
      "Missing details... skip.\n",
      "http://api.openweathermap.org/data/2.5/weather?q=marcona&units=IMPERIAL&appid=de8f8a24da42e1fb0732f88c4e3e70a3\n",
      "http://api.openweathermap.org/data/2.5/weather?q=monte san pietro&units=IMPERIAL&appid=de8f8a24da42e1fb0732f88c4e3e70a3\n",
      "http://api.openweathermap.org/data/2.5/weather?q=gorin&units=IMPERIAL&appid=de8f8a24da42e1fb0732f88c4e3e70a3\n",
      "http://api.openweathermap.org/data/2.5/weather?q=kruisfontein&units=IMPERIAL&appid=de8f8a24da42e1fb0732f88c4e3e70a3\n",
      "http://api.openweathermap.org/data/2.5/weather?q=labuan&units=IMPERIAL&appid=de8f8a24da42e1fb0732f88c4e3e70a3\n",
      "http://api.openweathermap.org/data/2.5/weather?q=barrow&units=IMPERIAL&appid=de8f8a24da42e1fb0732f88c4e3e70a3\n",
      "http://api.openweathermap.org/data/2.5/weather?q=saskylakh&units=IMPERIAL&appid=de8f8a24da42e1fb0732f88c4e3e70a3\n",
      "http://api.openweathermap.org/data/2.5/weather?q=udalguri&units=IMPERIAL&appid=de8f8a24da42e1fb0732f88c4e3e70a3\n",
      "http://api.openweathermap.org/data/2.5/weather?q=moindou&units=IMPERIAL&appid=de8f8a24da42e1fb0732f88c4e3e70a3\n",
      "http://api.openweathermap.org/data/2.5/weather?q=sabang&units=IMPERIAL&appid=de8f8a24da42e1fb0732f88c4e3e70a3\n",
      "http://api.openweathermap.org/data/2.5/weather?q=chipinge&units=IMPERIAL&appid=de8f8a24da42e1fb0732f88c4e3e70a3\n",
      "http://api.openweathermap.org/data/2.5/weather?q=bethel&units=IMPERIAL&appid=de8f8a24da42e1fb0732f88c4e3e70a3\n",
      "http://api.openweathermap.org/data/2.5/weather?q=new norfolk&units=IMPERIAL&appid=de8f8a24da42e1fb0732f88c4e3e70a3\n",
      "http://api.openweathermap.org/data/2.5/weather?q=piltene&units=IMPERIAL&appid=de8f8a24da42e1fb0732f88c4e3e70a3\n",
      "http://api.openweathermap.org/data/2.5/weather?q=yumen&units=IMPERIAL&appid=de8f8a24da42e1fb0732f88c4e3e70a3\n",
      "Missing details... skip.\n",
      "http://api.openweathermap.org/data/2.5/weather?q=alotau&units=IMPERIAL&appid=de8f8a24da42e1fb0732f88c4e3e70a3\n",
      "http://api.openweathermap.org/data/2.5/weather?q=rocha&units=IMPERIAL&appid=de8f8a24da42e1fb0732f88c4e3e70a3\n"
     ]
    }
   ],
   "source": [
    "\n",
    "base_url =\"http://api.openweathermap.org/data/2.5/weather?units=imperial&APPID\"\n",
    "for index, row in cities_df.iterrows():\n",
    "    target_url = \"http://api.openweathermap.org/data/2.5/weather?q=%s&units=IMPERIAL&appid=%s\" %(row[\"city\"], api_key)\n",
    "    response = requests.get(target_url).json()\n",
    "    #cities_df.set_value(index, \"Lat\", response[\"coord\"][\"lat\"])\n",
    "    #cities_df.set_value(index, \"Lon\", response[\"coord\"][\"lon\"])\n",
    "    #cities_df.set_value(index, \"Temperature\", response[\"main\"][\"temp\"])\n",
    "    try:     \n",
    "        cities_df.set_value(index, \"Lat\", response[\"coord\"][\"lat\"])\n",
    "        cities_df.set_value(index, \"Lon\", response[\"coord\"][\"lon\"])\n",
    "        cities_df.set_value(index, \"Humidity\", response[\"main\"][\"humidity\"])\n",
    "        cities_df.set_value(index, \"Temperature\", response[\"main\"][\"temp_max\"])\n",
    "        cities_df.set_value(index, \"Wind Speed\", response[\"wind\"][\"speed\"])\n",
    "        cities_df.set_value(index, \"Cloud Cover\", response[\"clouds\"][\"all\"])\n",
    "           \n",
    "    except:\n",
    "        print(\"Missing details... skip.\")\n",
    "        \n",
    "    response\n",
    "    print(target_url)"
   ]
  },
  {
   "cell_type": "code",
   "execution_count": 20,
   "metadata": {},
   "outputs": [
    {
     "data": {
      "text/html": [
       "<div>\n",
       "<style scoped>\n",
       "    .dataframe tbody tr th:only-of-type {\n",
       "        vertical-align: middle;\n",
       "    }\n",
       "\n",
       "    .dataframe tbody tr th {\n",
       "        vertical-align: top;\n",
       "    }\n",
       "\n",
       "    .dataframe thead th {\n",
       "        text-align: right;\n",
       "    }\n",
       "</style>\n",
       "<table border=\"1\" class=\"dataframe\">\n",
       "  <thead>\n",
       "    <tr style=\"text-align: right;\">\n",
       "      <th></th>\n",
       "      <th>city</th>\n",
       "      <th>Lat</th>\n",
       "      <th>Lon</th>\n",
       "      <th>Wind Speed</th>\n",
       "      <th>Humidity</th>\n",
       "      <th>Temperature</th>\n",
       "      <th>Cloud Cover</th>\n",
       "    </tr>\n",
       "  </thead>\n",
       "  <tbody>\n",
       "    <tr>\n",
       "      <th>0</th>\n",
       "      <td>taolanaro</td>\n",
       "      <td></td>\n",
       "      <td></td>\n",
       "      <td></td>\n",
       "      <td></td>\n",
       "      <td></td>\n",
       "      <td></td>\n",
       "    </tr>\n",
       "    <tr>\n",
       "      <th>1</th>\n",
       "      <td>limaong</td>\n",
       "      <td>7.36</td>\n",
       "      <td>122.37</td>\n",
       "      <td>6.4</td>\n",
       "      <td>100</td>\n",
       "      <td>80.05</td>\n",
       "      <td>36</td>\n",
       "    </tr>\n",
       "    <tr>\n",
       "      <th>2</th>\n",
       "      <td>oistins</td>\n",
       "      <td>13.07</td>\n",
       "      <td>-59.53</td>\n",
       "      <td>13.87</td>\n",
       "      <td>70</td>\n",
       "      <td>86</td>\n",
       "      <td>40</td>\n",
       "    </tr>\n",
       "    <tr>\n",
       "      <th>3</th>\n",
       "      <td>arman</td>\n",
       "      <td>59.7</td>\n",
       "      <td>150.17</td>\n",
       "      <td>8.95</td>\n",
       "      <td>100</td>\n",
       "      <td>39.2</td>\n",
       "      <td>90</td>\n",
       "    </tr>\n",
       "    <tr>\n",
       "      <th>4</th>\n",
       "      <td>airai</td>\n",
       "      <td>-8.93</td>\n",
       "      <td>125.41</td>\n",
       "      <td>1.36</td>\n",
       "      <td>79</td>\n",
       "      <td>61.33</td>\n",
       "      <td>0</td>\n",
       "    </tr>\n",
       "  </tbody>\n",
       "</table>\n",
       "</div>"
      ],
      "text/plain": [
       "        city    Lat     Lon Wind Speed Humidity Temperature Cloud Cover\n",
       "0  taolanaro                                                           \n",
       "1    limaong   7.36  122.37        6.4      100       80.05          36\n",
       "2    oistins  13.07  -59.53      13.87       70          86          40\n",
       "3      arman   59.7  150.17       8.95      100        39.2          90\n",
       "4      airai  -8.93  125.41       1.36       79       61.33           0"
      ]
     },
     "execution_count": 20,
     "metadata": {},
     "output_type": "execute_result"
    }
   ],
   "source": [
    "cities_df.head()"
   ]
  },
  {
   "cell_type": "markdown",
   "metadata": {},
   "source": [
    "### Convert Raw Data to DataFrame\n",
    "* Export the city data into a .csv.\n",
    "* Display the DataFrame"
   ]
  },
  {
   "cell_type": "code",
   "execution_count": 21,
   "metadata": {},
   "outputs": [],
   "source": [
    "cities_df.to_csv('homeworkcitydata.csv')"
   ]
  },
  {
   "cell_type": "code",
   "execution_count": 22,
   "metadata": {},
   "outputs": [
    {
     "data": {
      "text/html": [
       "<div>\n",
       "<style scoped>\n",
       "    .dataframe tbody tr th:only-of-type {\n",
       "        vertical-align: middle;\n",
       "    }\n",
       "\n",
       "    .dataframe tbody tr th {\n",
       "        vertical-align: top;\n",
       "    }\n",
       "\n",
       "    .dataframe thead th {\n",
       "        text-align: right;\n",
       "    }\n",
       "</style>\n",
       "<table border=\"1\" class=\"dataframe\">\n",
       "  <thead>\n",
       "    <tr style=\"text-align: right;\">\n",
       "      <th></th>\n",
       "      <th>city</th>\n",
       "      <th>Lat</th>\n",
       "      <th>Lon</th>\n",
       "      <th>Wind Speed</th>\n",
       "      <th>Humidity</th>\n",
       "      <th>Temperature</th>\n",
       "      <th>Cloud Cover</th>\n",
       "    </tr>\n",
       "  </thead>\n",
       "  <tbody>\n",
       "    <tr>\n",
       "      <th>0</th>\n",
       "      <td>taolanaro</td>\n",
       "      <td></td>\n",
       "      <td></td>\n",
       "      <td></td>\n",
       "      <td></td>\n",
       "      <td></td>\n",
       "      <td></td>\n",
       "    </tr>\n",
       "    <tr>\n",
       "      <th>1</th>\n",
       "      <td>limaong</td>\n",
       "      <td>7.36</td>\n",
       "      <td>122.37</td>\n",
       "      <td>6.4</td>\n",
       "      <td>100</td>\n",
       "      <td>80.05</td>\n",
       "      <td>36</td>\n",
       "    </tr>\n",
       "    <tr>\n",
       "      <th>2</th>\n",
       "      <td>oistins</td>\n",
       "      <td>13.07</td>\n",
       "      <td>-59.53</td>\n",
       "      <td>13.87</td>\n",
       "      <td>70</td>\n",
       "      <td>86</td>\n",
       "      <td>40</td>\n",
       "    </tr>\n",
       "    <tr>\n",
       "      <th>3</th>\n",
       "      <td>arman</td>\n",
       "      <td>59.7</td>\n",
       "      <td>150.17</td>\n",
       "      <td>8.95</td>\n",
       "      <td>100</td>\n",
       "      <td>39.2</td>\n",
       "      <td>90</td>\n",
       "    </tr>\n",
       "    <tr>\n",
       "      <th>4</th>\n",
       "      <td>airai</td>\n",
       "      <td>-8.93</td>\n",
       "      <td>125.41</td>\n",
       "      <td>1.36</td>\n",
       "      <td>79</td>\n",
       "      <td>61.33</td>\n",
       "      <td>0</td>\n",
       "    </tr>\n",
       "  </tbody>\n",
       "</table>\n",
       "</div>"
      ],
      "text/plain": [
       "        city    Lat     Lon Wind Speed Humidity Temperature Cloud Cover\n",
       "0  taolanaro                                                           \n",
       "1    limaong   7.36  122.37        6.4      100       80.05          36\n",
       "2    oistins  13.07  -59.53      13.87       70          86          40\n",
       "3      arman   59.7  150.17       8.95      100        39.2          90\n",
       "4      airai  -8.93  125.41       1.36       79       61.33           0"
      ]
     },
     "execution_count": 22,
     "metadata": {},
     "output_type": "execute_result"
    }
   ],
   "source": [
    "cities_df.head()"
   ]
  },
  {
   "cell_type": "code",
   "execution_count": null,
   "metadata": {},
   "outputs": [],
   "source": []
  },
  {
   "cell_type": "markdown",
   "metadata": {},
   "source": [
    "### Plotting the Data\n",
    "* Use proper labeling of the plots using plot titles (including date of analysis) and axes labels.\n",
    "* Save the plotted figures as .pngs."
   ]
  },
  {
   "cell_type": "markdown",
   "metadata": {},
   "source": [
    "#### Latitude vs. Temperature Plot"
   ]
  },
  {
   "cell_type": "code",
   "execution_count": 26,
   "metadata": {},
   "outputs": [
    {
     "data": {
      "text/plain": [
       "city           object\n",
       "Lat            object\n",
       "Lon            object\n",
       "Wind Speed     object\n",
       "Humidity       object\n",
       "Temperature    object\n",
       "Cloud Cover    object\n",
       "dtype: object"
      ]
     },
     "execution_count": 26,
     "metadata": {},
     "output_type": "execute_result"
    }
   ],
   "source": [
    "cities_df[\"Lat\"]\n",
    "cities_df[\"Temperature\"]\n",
    "#plt.scatter(cities_df[\"Lat\"], cities_df[\"Temperature\"], marker=\"o\", alpha =.7, edgecolors='black')\n",
    "#plt.title(\"Latitudes vs. Temperature\")\n",
    "cities_df.dtypes"
   ]
  },
  {
   "cell_type": "raw",
   "metadata": {},
   "source": [
    "#### Latitude vs. Humidity Plot"
   ]
  },
  {
   "cell_type": "code",
   "execution_count": null,
   "metadata": {},
   "outputs": [],
   "source": []
  },
  {
   "cell_type": "markdown",
   "metadata": {},
   "source": [
    "#### Latitude vs. Cloudiness Plot"
   ]
  },
  {
   "cell_type": "code",
   "execution_count": null,
   "metadata": {},
   "outputs": [],
   "source": []
  },
  {
   "cell_type": "markdown",
   "metadata": {},
   "source": [
    "#### Latitude vs. Wind Speed Plot"
   ]
  },
  {
   "cell_type": "code",
   "execution_count": null,
   "metadata": {},
   "outputs": [],
   "source": []
  },
  {
   "cell_type": "code",
   "execution_count": null,
   "metadata": {},
   "outputs": [],
   "source": []
  }
 ],
 "metadata": {
  "anaconda-cloud": {},
  "kernelspec": {
   "display_name": "Python 3",
   "language": "python",
   "name": "python3"
  },
  "language_info": {
   "codemirror_mode": {
    "name": "ipython",
    "version": 3
   },
   "file_extension": ".py",
   "mimetype": "text/x-python",
   "name": "python",
   "nbconvert_exporter": "python",
   "pygments_lexer": "ipython3",
   "version": "3.6.6"
  }
 },
 "nbformat": 4,
 "nbformat_minor": 2
}
